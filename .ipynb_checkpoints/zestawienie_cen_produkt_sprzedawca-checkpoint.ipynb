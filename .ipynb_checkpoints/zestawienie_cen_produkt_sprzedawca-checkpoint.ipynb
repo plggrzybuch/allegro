{
 "cells": [
  {
   "cell_type": "code",
   "execution_count": 1,
   "id": "c33486f9-8c14-4fe6-9931-b8b123b33926",
   "metadata": {},
   "outputs": [],
   "source": [
    "import pandas as pd\n",
    "pd.set_option('display.max_columns', None)\n",
    "\n",
    "import plotly.express as px\n",
    "import plotly.graph_objects as go\n",
    "from datetime import datetime\n",
    "import numpy as np\n",
    "import missingno as msno\n",
    "import matplotlib.pyplot as plt\n",
    "import seaborn as sns\n",
    "from tqdm import tqdm\n",
    "import warnings\n",
    "warnings.filterwarnings(\"ignore\")\n",
    "\n",
    "sns.set(rc={'figure.figsize':(8,4)})\n",
    "\n",
    "path_to_catalog=r'C:\\Users\\kgrzebien\\Desktop\\python_tasks\\allegro\\ceny_szybki_task_merge\\\\'\n"
   ]
  },
  {
   "cell_type": "code",
   "execution_count": 9,
   "id": "9c0c6405-99a1-463e-b4ec-b1a31179e1df",
   "metadata": {},
   "outputs": [],
   "source": [
    "def func_read_file_aukcje(path):\n",
    "    df=pd.read_csv(path_to_catalog+path+'.csv',\n",
    "                  encoding='utf-8',\n",
    "                  sep=\";\")\n",
    "    df['Kod EAN']=df['Kod EAN'].astype(str)\n",
    "    for i in ['Cena oferty', 'Cena sugerowana']:\n",
    "        df[i]=df[i].apply(lambda x: x.replace(',','.'))\n",
    "        df[i]=df[i].astype(float)\n",
    "    return df\n",
    "\n",
    "\n",
    "def func_read_slownik(path_to_slownik,\n",
    "                     col):\n",
    "    df=pd.read_csv(path_to_slownik, #'../../słowniki/slownikid.csv'\n",
    "                               encoding='Cp1250',\n",
    "                                sep=\"|\",\n",
    "                              low_memory=False)\n",
    "    df=df.loc[df['IS_DELETED']=='N']    \n",
    "    df=df[col]\n",
    "    df_znacznik=func_read_znacznik('../../słowniki/znacznik.csv',\n",
    "                                      ['ZNACZNIK','NAZWA'])\n",
    "    df_znacznik=df_znacznik.rename(columns={'NAZWA':'NAZWA_ZNACZNIK'})\n",
    "    df=df.merge(df_znacznik, how='left',on='ZNACZNIK')\n",
    "    #df=df.merge(df[['KOD_TEMA']].drop_duplicates(), how='inner', on='KOD_TEMA')[['ROZMIARSI','KOD_TEMA']].drop_duplicates()\n",
    "    return df\n",
    "\n",
    "def func_read_znacznik(path_to_znacznik,\n",
    "                      col):\n",
    "    df=pd.read_csv(path_to_znacznik, #'../../słowniki/slownikid.csv'\n",
    "                               encoding='Cp1250',\n",
    "                                sep=\"|\",\n",
    "                              low_memory=False)\n",
    "    df=df.loc[df['IS_DELETED']=='N']\n",
    "    df=df[col]\n",
    "    #df=df.merge(df[['KOD_TEMA']].drop_duplicates(), how='inner', on='KOD_TEMA')[['ROZMIARSI','KOD_TEMA']].drop_duplicates()\n",
    "    return df\n",
    "\n",
    "def func_read_znacznik_baselinker(path_to_baselinker,\n",
    "                      col):\n",
    "    df=pd.read_excel(path_to_baselinker,\n",
    "                    sheet_name='dane')\n",
    "    #display(df)\n",
    "    #df=df.merge(df[['KOD_TEMA']].drop_duplicates(), how='inner', on='KOD_TEMA')[['ROZMIARSI','KOD_TEMA']].drop_duplicates()\n",
    "    return df\n"
   ]
  },
  {
   "cell_type": "code",
   "execution_count": 3,
   "id": "1e9f7e0e-1bf5-444d-868f-943d4d83c99c",
   "metadata": {},
   "outputs": [],
   "source": [
    "df_allegro=func_read_file_aukcje('auctions-2022-07-25-00-24-30')"
   ]
  },
  {
   "cell_type": "code",
   "execution_count": 10,
   "id": "1f2fcc34-cef2-43f9-9bca-c676982805d6",
   "metadata": {},
   "outputs": [],
   "source": [
    "df_slownik=func_read_slownik('../../słowniki/slownik.csv',\n",
    "                    ['KOD_TEMA','NAZWA','RODZAJ','NAZWA_KAT','KOD_PASEK','ZNACZNIK'])\n",
    "# rodzaj, nazwa, kod_tema, grupa_towarowa(kategorie)|"
   ]
  },
  {
   "cell_type": "code",
   "execution_count": null,
   "id": "3b8d65c0-f82c-4234-a56a-97952abc4f8f",
   "metadata": {},
   "outputs": [],
   "source": [
    "# df_baselinker=func_read_znacznik('20220725 Dane Baselinker SMA.xlsx',\n",
    "#                                 ['a'])"
   ]
  },
  {
   "cell_type": "code",
   "execution_count": null,
   "id": "dbfd33bb-c43a-4e0b-bb1d-d99d137262bd",
   "metadata": {
    "tags": []
   },
   "outputs": [],
   "source": [
    "# df_allegro_slownik_2=df_allegro_slownik.merge(df_baselinker[['price','products_sku']],\n",
    "#                         how='left',\n",
    "#                         left_on='KOD_TEMA',\n",
    "#                         right_on='products_sku')\n",
    "# df_allegro_slownik_2=df_allegro_slownik_2.loc[df_allegro_slownik_2['Sprzedający']=='SMA-Eurofirany']\n",
    "# df_allegro_slownik_2['roznica']=df_allegro_slownik_2['Cena oferty']-df_allegro_slownik_2['price']\n",
    "# px.scatter(df_allegro_slownik_2,\n",
    "#        x='NAZWA', y='roznica',\n",
    "#            color='NAZWA_ZNACZNIK')"
   ]
  },
  {
   "cell_type": "code",
   "execution_count": 11,
   "id": "07f84f88-d986-4b28-8a45-a9a6c8d7796a",
   "metadata": {},
   "outputs": [],
   "source": [
    "# df_allegro_slownik_2.sort_values(by='roznica')"
   ]
  },
  {
   "cell_type": "code",
   "execution_count": 12,
   "id": "edca4915-74d5-406b-9d83-86faa0b8c598",
   "metadata": {},
   "outputs": [],
   "source": [
    "df_allegro_slownik=df_allegro.merge(df_slownik, how='left',\n",
    "                                    left_on='Kod EAN', right_on='KOD_PASEK')\n",
    "df_allegro_slownik=df_allegro_slownik.loc[df_allegro_slownik['KOD_TEMA'].notnull()]"
   ]
  },
  {
   "cell_type": "code",
   "execution_count": 125,
   "id": "42e1b724-0f19-4ec4-8361-e067da880b43",
   "metadata": {},
   "outputs": [],
   "source": [
    "def func_pivot_table(df, col_index, col_col, col_val,\n",
    "                    df_baselinker):\n",
    "    \n",
    "    for col_index_name in (df[col_index[0]].unique()):\n",
    "        #display(df.loc[df[col_index]==col_index_name][[col_index, col_col, col_val]])\n",
    "        col_index_name='ZAS.GOTOWE'\n",
    "        # print(col_index_name)\n",
    "        arr_kody_tema=df.loc[df[col_index[0]]==col_index_name].loc[df['Sprzedający']=='SMA-Eurofirany']['KOD_TEMA'].unique()\n",
    "        arr_sprzedawcy=df.loc[df[col_index[0]]==col_index_name].loc[df['KOD_TEMA'].isin(arr_kody_tema)]['Sprzedający'].unique()\n",
    "        _=df.loc[df[col_index[0]]==col_index_name].loc[df['KOD_TEMA'].isin(arr_kody_tema)].loc[df['Sprzedający'].isin(arr_sprzedawcy)].groupby('Sprzedający').agg({'KOD_TEMA':'nunique'}).reset_index()\n",
    "        arr_sprzedawcy=_.loc[_['KOD_TEMA']>=100]['Sprzedający'].unique()\n",
    "        arr_kolejnosc_sprzedawcow=df.loc[df[col_index[0]]==col_index_name].loc[df['KOD_TEMA'].isin(arr_kody_tema)].loc[df['Sprzedający'].isin(arr_sprzedawcy)].\\\n",
    "                                    groupby('Sprzedający').agg({'KOD_TEMA':'nunique'}).reset_index().\\\n",
    "                                    sort_values(by='KOD_TEMA', ascending=False)['Sprzedający'].tolist()\n",
    "        df_unikatowe_kody_tema_sprzedawcy=df.loc[df[col_index[0]]==col_index_name].loc[df['KOD_TEMA'].isin(arr_kody_tema)].loc[df['Sprzedający'].isin(arr_sprzedawcy)].\\\n",
    "                                            groupby('Sprzedający').agg({'KOD_TEMA':'nunique'}).reset_index().\\\n",
    "                                            sort_values(by='KOD_TEMA', ascending=False)\n",
    "        df_unikatowe_kody_tema_sprzedawcy.reset_index().drop('index', axis=1).to_excel(path_to_catalog+'df_unikatowe_kody_tema_sprzedawcy_'+col_index_name+'.xlsx')\n",
    "        \n",
    "        df_pivot=pd.pivot_table(df.loc[df[col_index[0]]==col_index_name].loc[df['KOD_TEMA'].isin(arr_kody_tema)].loc[df['Sprzedający'].isin(arr_sprzedawcy)],\n",
    "                                index=col_index,\n",
    "                               columns=col_col,\n",
    "                               values=col_val,\n",
    "                               aggfunc=np.mean)\n",
    "        \n",
    "        # df_func_procent=func_procent((df.loc[df[col_index[0]]==col_index_name].loc[df['KOD_TEMA'].isin(arr_kody_tema)].loc[df['Sprzedający'].isin(arr_sprzedawcy)]),\n",
    "        #                             col_index_name)\n",
    "        # display(df_func_procent)\n",
    "        \n",
    "        # df_func_procent_przedzialy=func_procent_przedzialy((df.loc[df[col_index[0]]==col_index_name].loc[df['KOD_TEMA'].isin(arr_kody_tema)].loc[df['Sprzedający'].isin(arr_sprzedawcy)]),\n",
    "        #                             col_index_name)\n",
    "        #display(df_func_procent_przedzialy)\n",
    "        \n",
    "        # df_baselinker=df_allegro_slownik.merge(df_baselinker,\n",
    "        #                                         how='left',\n",
    "        #                                         left_on='KOD_TEMA',\n",
    "        #                                         right_on='products_sku')\n",
    "        # df_baselinker=df_baselinker[['KOD_TEMA','price']].drop_duplicates().set_index('KOD_TEMA')\n",
    "        # df_pivot=df_pivot.merge(df_baselinker, how='left')\n",
    "        \n",
    "        # df_pivot=df_pivot[arr_kolejnosc_sprzedawcow].reset_index()\n",
    "        #df_pivot.to_excel(path_to_catalog+'pivot_table_ponad_100_produktow_per_sprzedawca_'+col_index_name+'.xlsx')\n",
    "        \n",
    "        break\n",
    "\n",
    "        \n",
    "def func_procent(df, col_index_name):\n",
    "    df_return=pd.DataFrame(columns=['NAZWA_ZNACZNIK','RODZAJ','KOD_TEMA','NAZWA',\n",
    "                                   'tanszy', 'drozszy'])\n",
    "    for tema in tqdm(df['KOD_TEMA'].unique()):\n",
    "        \n",
    "        df_tema=df.loc[df['KOD_TEMA']==tema]\n",
    "        rodzaj=df_tema['RODZAJ'].values[0]\n",
    "        nazwa=df_tema['NAZWA'].values[0]\n",
    "        cena_eurofiran=df_tema.loc[df_tema['Sprzedający']=='SMA-Eurofirany']['Cena oferty'].values[0]\n",
    "        df_tema['procent_od_ceny']=(df_tema['Cena oferty']/cena_eurofiran-1)*100\n",
    "        # sns.histplot(df_tema,\n",
    "        #             x='procent_od_ceny')\n",
    "        try:\n",
    "            df_tmp=df_tema.loc[df_tema['procent_od_ceny']>=0]\n",
    "            liczba_sprzedawcow_plus=df_tmp['Sprzedający'].nunique()\n",
    "        except:\n",
    "            liczba_sprzedawcow_plus=0\n",
    "        try:\n",
    "            df_tmp=df_tema.loc[df_tema['procent_od_ceny']<0]\n",
    "            liczba_sprzedawcow_minus=df_tmp['Sprzedający'].nunique()\n",
    "        except:\n",
    "            liczba_sprzedawcow_minus=0\n",
    "        df_return=df_return.append({'NAZWA_ZNACZNIK':df_tema['NAZWA_ZNACZNIK'].values[0],\n",
    "                                    'RODZAJ':rodzaj,'KOD_TEMA':tema,'NAZWA':nazwa,\n",
    "                                   'tanszy':liczba_sprzedawcow_minus,\n",
    "                                    'drozszy':liczba_sprzedawcow_plus},\n",
    "                                  ignore_index=True)\n",
    "    df_return.to_excel(path_to_catalog+'tanszy_drozszy_'+col_index_name+'.xlsx')\n",
    "    return df_return\n",
    "\n",
    "\n",
    "\n",
    "def func_procent_przedzialy(df,\n",
    "                           col_index_name):\n",
    "    df_return=pd.DataFrame(columns=['NAZWA_ZNACZNIK','RODZAJ','KOD_TEMA','NAZWA',\n",
    "                                   'proc_mniej_niz_-80', 'proc_mniej_niz_-60', 'proc_mniej_niz_-40', 'proc_mniej_niz_-20', 'proc_mniej_niz_-0', \n",
    "                                   'proc_wiecej_niz_0', 'proc_wiecej_niz_20', 'proc_wiecej_niz_40', 'proc_wiecej_niz_60', 'proc_wiecej_niz_80'])\n",
    "    for tema in tqdm(df['KOD_TEMA'].unique()):\n",
    "        \n",
    "        df_tema=df.loc[df['KOD_TEMA']==tema]\n",
    "        rodzaj=df_tema['RODZAJ'].values[0]\n",
    "        nazwa=df_tema['NAZWA'].values[0]\n",
    "        cena_eurofiran=df_tema.loc[df_tema['Sprzedający']=='SMA-Eurofirany']['Cena oferty'].values[0]\n",
    "        df_tema['procent_od_ceny']=(df_tema['Cena oferty']/cena_eurofiran-1)*100\n",
    "        # sns.histplot(df_tema,\n",
    "        #             x='procent_od_ceny')\n",
    "        df_return=df_return.append({'NAZWA_ZNACZNIK':df_tema['NAZWA_ZNACZNIK'].values[0],\n",
    "                                    'RODZAJ':rodzaj,'KOD_TEMA':tema,'NAZWA':nazwa,\n",
    "                                   'proc_mniej_niz_-80':0, 'proc_mniej_niz_-60':0, 'proc_mniej_niz_-40':0, 'proc_mniej_niz_-20':0, 'proc_mniej_niz_-0':0, \n",
    "                                   'proc_wiecej_niz_0':0, 'proc_wiecej_niz_20':0, 'proc_wiecej_niz_40':0, 'proc_wiecej_niz_60':0, 'proc_wiecej_niz_80':0},\n",
    "                                  ignore_index=True)\n",
    "        \n",
    "        #display(df_tema.loc[df_tema['procent_od_ceny']<0])\n",
    "        for i in [0,20,40,60,80]:\n",
    "            if i<80:\n",
    "                df_tmp_plus=df_tema.loc[df_tema['procent_od_ceny']>i].loc[df_tema['procent_od_ceny']<=i+10]\n",
    "                df_tmp_minus=df_tema.loc[df_tema['procent_od_ceny']<=-i].loc[df_tema['procent_od_ceny']>-i-10]\n",
    "            else:\n",
    "                df_tmp_plus=df_tema.loc[df_tema['procent_od_ceny']>i]\n",
    "                df_tmp_minus=df_tema.loc[df_tema['procent_od_ceny']<=-i]\n",
    "            try:\n",
    "                liczba_sprzedawcow_plus=df_tmp_plus['Sprzedający'].nunique()\n",
    "            except:\n",
    "                liczba_sprzedawcow_plus=0\n",
    "            try:\n",
    "                liczba_sprzedawcow_minus=df_tmp_minus['Sprzedający'].nunique()\n",
    "            except:\n",
    "                liczba_sprzedawcow_minus=0\n",
    "                \n",
    "            col_plus=[c for c in df_return.columns if (str(i) in c and '-' not in c)]\n",
    "            col_minus=[c for c in df_return.columns if (str(i) in c and '-' in c)]\n",
    "            if i==0:\n",
    "                df_return.loc[df_return.index[-1], col_plus[0]]=liczba_sprzedawcow_plus\n",
    "                df_return.loc[df_return.index[-1], col_minus[-1]]=liczba_sprzedawcow_minus\n",
    "            else:\n",
    "                df_return.loc[df_return.index[-1], col_plus[0]]=liczba_sprzedawcow_plus\n",
    "                df_return.loc[df_return.index[-1], col_minus[0]]=liczba_sprzedawcow_minus\n",
    "        # break\n",
    "    df_return.to_excel(path_to_catalog+'tanszy_drozszy_przedzialy_'+col_index_name+'.xlsx')\n",
    "    return df_return"
   ]
  },
  {
   "cell_type": "code",
   "execution_count": 126,
   "id": "6fd66287-0fd3-4978-8d22-30e726d23f35",
   "metadata": {},
   "outputs": [
    {
     "name": "stderr",
     "output_type": "stream",
     "text": [
      "100%|██████████████████████████████████████████████████████████████████████████████| 1420/1420 [02:09<00:00, 11.00it/s]\n"
     ]
    }
   ],
   "source": [
    "func_pivot_table(df_allegro_slownik, \n",
    "                 ['NAZWA_ZNACZNIK','RODZAJ','KOD_TEMA','NAZWA'], 'Sprzedający',\n",
    "                 'Cena oferty',\n",
    "                    np.nan)\n"
   ]
  },
  {
   "cell_type": "code",
   "execution_count": 179,
   "id": "b0776472-deb8-4458-bcd1-dd71101aa236",
   "metadata": {},
   "outputs": [
    {
     "data": {
      "text/html": [
       "<div>\n",
       "<style scoped>\n",
       "    .dataframe tbody tr th:only-of-type {\n",
       "        vertical-align: middle;\n",
       "    }\n",
       "\n",
       "    .dataframe tbody tr th {\n",
       "        vertical-align: top;\n",
       "    }\n",
       "\n",
       "    .dataframe thead th {\n",
       "        text-align: right;\n",
       "    }\n",
       "</style>\n",
       "<table border=\"1\" class=\"dataframe\">\n",
       "  <thead>\n",
       "    <tr style=\"text-align: right;\">\n",
       "      <th></th>\n",
       "      <th>KOD_TEMA</th>\n",
       "    </tr>\n",
       "    <tr>\n",
       "      <th>NAZWA_ZNACZNIK</th>\n",
       "      <th></th>\n",
       "    </tr>\n",
       "  </thead>\n",
       "  <tbody>\n",
       "    <tr>\n",
       "      <th>ZAS.GOTOWE</th>\n",
       "      <td>62425</td>\n",
       "    </tr>\n",
       "    <tr>\n",
       "      <th>RĘCZNIKI</th>\n",
       "      <td>51797</td>\n",
       "    </tr>\n",
       "    <tr>\n",
       "      <th>PODUSZKI</th>\n",
       "      <td>46697</td>\n",
       "    </tr>\n",
       "    <tr>\n",
       "      <th>POŚCIEL</th>\n",
       "      <td>42652</td>\n",
       "    </tr>\n",
       "    <tr>\n",
       "      <th>NARZUTY</th>\n",
       "      <td>26615</td>\n",
       "    </tr>\n",
       "    <tr>\n",
       "      <th>CERAMIKA</th>\n",
       "      <td>16540</td>\n",
       "    </tr>\n",
       "    <tr>\n",
       "      <th>OBRUSY</th>\n",
       "      <td>14829</td>\n",
       "    </tr>\n",
       "    <tr>\n",
       "      <th>KOCE</th>\n",
       "      <td>12152</td>\n",
       "    </tr>\n",
       "    <tr>\n",
       "      <th>PASMANTERIA</th>\n",
       "      <td>3913</td>\n",
       "    </tr>\n",
       "    <tr>\n",
       "      <th>LAMPY</th>\n",
       "      <td>3262</td>\n",
       "    </tr>\n",
       "    <tr>\n",
       "      <th>PODKŁADKI</th>\n",
       "      <td>1133</td>\n",
       "    </tr>\n",
       "    <tr>\n",
       "      <th>KWIATY</th>\n",
       "      <td>1022</td>\n",
       "    </tr>\n",
       "    <tr>\n",
       "      <th>WYPOSAŻENIE</th>\n",
       "      <td>1001</td>\n",
       "    </tr>\n",
       "    <tr>\n",
       "      <th>ŚWIĘTA</th>\n",
       "      <td>734</td>\n",
       "    </tr>\n",
       "    <tr>\n",
       "      <th>OBRAZY</th>\n",
       "      <td>693</td>\n",
       "    </tr>\n",
       "    <tr>\n",
       "      <th>ART.DEKORACYJNE</th>\n",
       "      <td>202</td>\n",
       "    </tr>\n",
       "    <tr>\n",
       "      <th>KOŁDRY</th>\n",
       "      <td>131</td>\n",
       "    </tr>\n",
       "    <tr>\n",
       "      <th>CER.UŻYTKOWA</th>\n",
       "      <td>54</td>\n",
       "    </tr>\n",
       "    <tr>\n",
       "      <th>SPAGETTI</th>\n",
       "      <td>43</td>\n",
       "    </tr>\n",
       "    <tr>\n",
       "      <th>HOTELE</th>\n",
       "      <td>23</td>\n",
       "    </tr>\n",
       "    <tr>\n",
       "      <th>WKŁ+PODUSZ.</th>\n",
       "      <td>12</td>\n",
       "    </tr>\n",
       "    <tr>\n",
       "      <th>KARNISZE</th>\n",
       "      <td>4</td>\n",
       "    </tr>\n",
       "  </tbody>\n",
       "</table>\n",
       "</div>"
      ],
      "text/plain": [
       "                 KOD_TEMA\n",
       "NAZWA_ZNACZNIK           \n",
       "ZAS.GOTOWE          62425\n",
       "RĘCZNIKI            51797\n",
       "PODUSZKI            46697\n",
       "POŚCIEL             42652\n",
       "NARZUTY             26615\n",
       "CERAMIKA            16540\n",
       "OBRUSY              14829\n",
       "KOCE                12152\n",
       "PASMANTERIA          3913\n",
       "LAMPY                3262\n",
       "PODKŁADKI            1133\n",
       "KWIATY               1022\n",
       "WYPOSAŻENIE          1001\n",
       "ŚWIĘTA                734\n",
       "OBRAZY                693\n",
       "ART.DEKORACYJNE       202\n",
       "KOŁDRY                131\n",
       "CER.UŻYTKOWA           54\n",
       "SPAGETTI               43\n",
       "HOTELE                 23\n",
       "WKŁ+PODUSZ.            12\n",
       "KARNISZE                4"
      ]
     },
     "execution_count": 179,
     "metadata": {},
     "output_type": "execute_result"
    }
   ],
   "source": [
    "df_allegro_slownik.groupby(['NAZWA_ZNACZNIK']).agg({'KOD_TEMA':'count'}).sort_values(by='KOD_TEMA', ascending=False)"
   ]
  },
  {
   "cell_type": "code",
   "execution_count": 165,
   "id": "38f6899e-54e5-46e9-bbb6-6c6f943318d1",
   "metadata": {},
   "outputs": [
    {
     "data": {
      "text/plain": [
       "251483"
      ]
     },
     "execution_count": 165,
     "metadata": {},
     "output_type": "execute_result"
    }
   ],
   "source": [
    "len(df_allegro)"
   ]
  },
  {
   "cell_type": "code",
   "execution_count": 248,
   "id": "a0bdf104-4ef4-4c82-8fce-fcd07cd2f983",
   "metadata": {},
   "outputs": [
    {
     "data": {
      "text/html": [
       "<div>\n",
       "<style scoped>\n",
       "    .dataframe tbody tr th:only-of-type {\n",
       "        vertical-align: middle;\n",
       "    }\n",
       "\n",
       "    .dataframe tbody tr th {\n",
       "        vertical-align: top;\n",
       "    }\n",
       "\n",
       "    .dataframe thead th {\n",
       "        text-align: right;\n",
       "    }\n",
       "</style>\n",
       "<table border=\"1\" class=\"dataframe\">\n",
       "  <thead>\n",
       "    <tr style=\"text-align: right;\">\n",
       "      <th></th>\n",
       "      <th>ID oferty</th>\n",
       "    </tr>\n",
       "    <tr>\n",
       "      <th>ID Kategorii</th>\n",
       "      <th></th>\n",
       "    </tr>\n",
       "  </thead>\n",
       "  <tbody>\n",
       "    <tr>\n",
       "      <th>15985</th>\n",
       "      <td>2</td>\n",
       "    </tr>\n",
       "    <tr>\n",
       "      <th>49862</th>\n",
       "      <td>10738</td>\n",
       "    </tr>\n",
       "    <tr>\n",
       "      <th>49864</th>\n",
       "      <td>15</td>\n",
       "    </tr>\n",
       "    <tr>\n",
       "      <th>49865</th>\n",
       "      <td>503</td>\n",
       "    </tr>\n",
       "    <tr>\n",
       "      <th>98742</th>\n",
       "      <td>3</td>\n",
       "    </tr>\n",
       "    <tr>\n",
       "      <th>98743</th>\n",
       "      <td>1</td>\n",
       "    </tr>\n",
       "    <tr>\n",
       "      <th>124003</th>\n",
       "      <td>2</td>\n",
       "    </tr>\n",
       "  </tbody>\n",
       "</table>\n",
       "</div>"
      ],
      "text/plain": [
       "              ID oferty\n",
       "ID Kategorii           \n",
       "15985                 2\n",
       "49862             10738\n",
       "49864                15\n",
       "49865               503\n",
       "98742                 3\n",
       "98743                 1\n",
       "124003                2"
      ]
     },
     "execution_count": 248,
     "metadata": {},
     "output_type": "execute_result"
    }
   ],
   "source": [
    "df_allegro_slownik.loc[df_allegro_slownik['NAZWA'].str.contains('FIR/')].groupby(['ID Kategorii']).agg({'ID oferty':'nunique'})#.groupby('Popularność').agg({'ID oferty':'count'})"
   ]
  },
  {
   "cell_type": "code",
   "execution_count": 251,
   "id": "f7a1cb2f-baff-4dd1-8197-ddd5e650ee54",
   "metadata": {},
   "outputs": [
    {
     "data": {
      "text/html": [
       "<div>\n",
       "<style scoped>\n",
       "    .dataframe tbody tr th:only-of-type {\n",
       "        vertical-align: middle;\n",
       "    }\n",
       "\n",
       "    .dataframe tbody tr th {\n",
       "        vertical-align: top;\n",
       "    }\n",
       "\n",
       "    .dataframe thead th {\n",
       "        text-align: right;\n",
       "    }\n",
       "</style>\n",
       "<table border=\"1\" class=\"dataframe\">\n",
       "  <thead>\n",
       "    <tr style=\"text-align: right;\">\n",
       "      <th></th>\n",
       "      <th>ID oferty</th>\n",
       "    </tr>\n",
       "    <tr>\n",
       "      <th>ID Kategorii</th>\n",
       "      <th></th>\n",
       "    </tr>\n",
       "  </thead>\n",
       "  <tbody>\n",
       "    <tr>\n",
       "      <th>128</th>\n",
       "      <td>20</td>\n",
       "    </tr>\n",
       "    <tr>\n",
       "      <th>15986</th>\n",
       "      <td>4</td>\n",
       "    </tr>\n",
       "    <tr>\n",
       "      <th>15989</th>\n",
       "      <td>3</td>\n",
       "    </tr>\n",
       "    <tr>\n",
       "      <th>15996</th>\n",
       "      <td>2</td>\n",
       "    </tr>\n",
       "    <tr>\n",
       "      <th>49862</th>\n",
       "      <td>447</td>\n",
       "    </tr>\n",
       "    <tr>\n",
       "      <th>49864</th>\n",
       "      <td>155</td>\n",
       "    </tr>\n",
       "    <tr>\n",
       "      <th>49865</th>\n",
       "      <td>27762</td>\n",
       "    </tr>\n",
       "    <tr>\n",
       "      <th>98742</th>\n",
       "      <td>3</td>\n",
       "    </tr>\n",
       "    <tr>\n",
       "      <th>98743</th>\n",
       "      <td>110</td>\n",
       "    </tr>\n",
       "    <tr>\n",
       "      <th>260342</th>\n",
       "      <td>26</td>\n",
       "    </tr>\n",
       "  </tbody>\n",
       "</table>\n",
       "</div>"
      ],
      "text/plain": [
       "              ID oferty\n",
       "ID Kategorii           \n",
       "128                  20\n",
       "15986                 4\n",
       "15989                 3\n",
       "15996                 2\n",
       "49862               447\n",
       "49864               155\n",
       "49865             27762\n",
       "98742                 3\n",
       "98743               110\n",
       "260342               26"
      ]
     },
     "execution_count": 251,
     "metadata": {},
     "output_type": "execute_result"
    }
   ],
   "source": [
    "df_allegro_slownik.loc[df_allegro_slownik['NAZWA'].str.contains('ZAS/')].groupby(['ID Kategorii']).agg({'ID oferty':'nunique'})"
   ]
  },
  {
   "cell_type": "code",
   "execution_count": null,
   "id": "144434e2-619d-4f0e-81b7-53a557aa38f2",
   "metadata": {},
   "outputs": [],
   "source": [
    "49865, FIR"
   ]
  },
  {
   "cell_type": "code",
   "execution_count": 140,
   "id": "c95fe3b7-2b2f-45d4-b31b-a939323800e3",
   "metadata": {},
   "outputs": [],
   "source": [
    "_=df_allegro_slownik.loc[df_allegro_slownik['Sprzedający'].str.contains('SMA-Eurofirany')].groupby(['KOD_TEMA','NAZWA']).agg(#nazwa_oferty_allegro=('Nazwa oferty','unique'),\n",
    "                                                                                                                                        liczba_uniaktowych_cen=('Cena oferty','nunique'),\n",
    "                                                                                                                                         jakie_uniaktowych_cen=('Cena oferty','unique'),\n",
    "                                                                                                                                         srednia_cen=('Cena oferty','mean'),\n",
    "                                                                                                                                         ile_eanow=('Kod EAN','nunique'),\n",
    "                                                                                                                                           ean=('Kod EAN','unique')).\\\n",
    "                                                                                                                                    sort_values(by='liczba_uniaktowych_cen').reset_index()#.tail(50)\n",
    "_['Sprzedający']='SMA-Eurofirany'\n",
    "_=_.loc[_['liczba_uniaktowych_cen']>1]\n",
    "_.to_excel(path_to_catalog+'sklep_SMA-Eurofirany_zestawienie_unikatowych.xlsx')\n",
    "df_allegro_slownik.loc[df_allegro_slownik['Sprzedający'].str.contains('SMA-Eurofirany')].loc[df_allegro_slownik['KOD_TEMA'].isin(_['KOD_TEMA'].unique())].to_excel(path_to_catalog+'sklep_SMA-Eurofirany.xlsx')"
   ]
  },
  {
   "cell_type": "code",
   "execution_count": 212,
   "id": "0a28ac1c-39bd-43d3-bb94-5fe89aac01c3",
   "metadata": {},
   "outputs": [],
   "source": [
    "_=df_allegro_slownik.groupby(['KOD_TEMA','NAZWA']).agg(#nazwa_oferty_allegro=('Nazwa oferty','unique'),\n",
    "                                                    liczba_uniaktowych_cen=('Cena oferty','nunique'),\n",
    "                                                     jakie_uniaktowych_cen=('Cena oferty','unique'),\n",
    "                                                     srednia_cen=('Cena oferty','mean'),\n",
    "                                                     ile_eanow=('Kod EAN','nunique'),\n",
    "                                                       ean=('Kod EAN','unique')).\\\n",
    "                                                sort_values(by='liczba_uniaktowych_cen').reset_index().tail(40)['ean']\n",
    "\n",
    "_=_.apply(lambda x: x[0])\n",
    "df_allegro_slownik.loc[df_allegro_slownik['Kod EAN'].isin(_.unique())].groupby('Kod EAN').agg(liczba_unikatowych_sprzedajacych=('Sprzedający','nunique'),\n",
    "                                                                                              min_cena_oferty=('Cena oferty','min'),\n",
    "                                                                                              max_cena_oferty=('Cena oferty','max'),\n",
    "                                                                                              mean_cena_oferty=('Cena oferty','mean'),\n",
    "                                                                                             mean_cena_sugerowana=('Cena sugerowana','mean'),\n",
    "                                                                                              unikatowych_sprzedajacych=('Sprzedający','unique')).reset_index().to_excel(path_to_catalog+'usun2.xlsx')"
   ]
  },
  {
   "cell_type": "code",
   "execution_count": 224,
   "id": "ad1e547f-d45f-4678-b926-24d0704d41fd",
   "metadata": {},
   "outputs": [
    {
     "data": {
      "text/plain": [
       "1420"
      ]
     },
     "execution_count": 224,
     "metadata": {},
     "output_type": "execute_result"
    }
   ],
   "source": [
    "df_allegro_slownik.loc[df_allegro_slownik['Sprzedający'].str.contains('SMA-Eurofirany')].loc[df_allegro_slownik['ZNACZNIK']==3]['KOD_TEMA'].nunique()"
   ]
  },
  {
   "cell_type": "code",
   "execution_count": null,
   "id": "9a82c6a4-7460-4c5b-bbbc-8fdc6d8cb785",
   "metadata": {},
   "outputs": [],
   "source": []
  },
  {
   "cell_type": "code",
   "execution_count": null,
   "id": "d0bbb832-8b04-4b59-84c2-b2ee4050fcb2",
   "metadata": {},
   "outputs": [],
   "source": []
  },
  {
   "cell_type": "code",
   "execution_count": 282,
   "id": "b115549b-5e4f-469c-ab70-7045ef0a6ee1",
   "metadata": {},
   "outputs": [],
   "source": [
    "df_plik_agata=pd.read_excel('ZASGOTOWECENY.xlsx')\n",
    "df_plik_agata=df_plik_agata.drop(df_plik_agata.index[-1], axis=0)"
   ]
  },
  {
   "cell_type": "code",
   "execution_count": 283,
   "id": "76413683-1783-40b7-8864-401eaee41b2c",
   "metadata": {},
   "outputs": [],
   "source": [
    "df_plik_agata=df_plik_agata.merge(df_slownik[['KOD_TEMA', 'KOD_PASEK']].drop_duplicates(),\n",
    "                   how='left',\n",
    "                   on='KOD_TEMA')"
   ]
  },
  {
   "cell_type": "code",
   "execution_count": 284,
   "id": "a5c42104-4332-4515-8cf9-469dafee7300",
   "metadata": {
    "tags": []
   },
   "outputs": [
    {
     "name": "stderr",
     "output_type": "stream",
     "text": [
      "100%|████████████████████████████████████████████████████████████████████████████| 1420/1420 [00:01<00:00, 1313.08it/s]\n",
      "100%|████████████████████████████████████████████████████████████████████████████| 1227/1227 [00:00<00:00, 1959.83it/s]\n"
     ]
    }
   ],
   "source": [
    "arr_ind_to_drop=[]\n",
    "for i in tqdm(df_plik_agata['KOD_PASEK']):\n",
    "    if len(df_plik_agata.loc[df_plik_agata['KOD_PASEK']==i])>1:\n",
    "        for j in df_plik_agata.loc[df_plik_agata['KOD_PASEK']==i].loc[df_plik_agata['ilość\\nsprzedana']==0].index:\n",
    "            arr_ind_to_drop=np.append(arr_ind_to_drop, j)\n",
    "            \n",
    "df_plik_agata=df_plik_agata.drop(arr_ind_to_drop, axis=0)\n",
    "\n",
    "arr_ind_to_drop=[]\n",
    "for i in tqdm(df_plik_agata['KOD_PASEK']):\n",
    "    if len(df_plik_agata.loc[df_plik_agata['KOD_PASEK']==i])>1:\n",
    "        _=df_plik_agata.loc[df_plik_agata['KOD_PASEK']==i]\n",
    "        _tema=np.sort(_['KOD_TEMA'].unique())\n",
    "        _tema=_tema[:-1]\n",
    "        for j in _.loc[_['KOD_TEMA'].isin(_tema)].index:\n",
    "            arr_ind_to_drop=np.append(arr_ind_to_drop, j)\n",
    "df_plik_agata=df_plik_agata.drop(arr_ind_to_drop, axis=0)\n",
    "#display(df_plik_agata)"
   ]
  },
  {
   "cell_type": "code",
   "execution_count": 285,
   "id": "69d4d05b-4396-4bcb-ac96-50a7b7aa0fcb",
   "metadata": {},
   "outputs": [],
   "source": [
    "arr_ean_to_drop=df_plik_agata[list(set(df_plik_agata.columns)-set(['KOD_TEMA', 'NAZWA', 'RODZAJ', 'SMA-Eurofirany', 'ilość\\nsprzedana', \n",
    "                                                    'tekstore', 'Unnamed: 8','decority', 'Zaslony_Deco',\n",
    "                                                  'r.cen\\neol','r.cen\\n','r.cen\\n.1','r.cen\\n.2']))].set_index('KOD_PASEK').isna().all(axis=1).reset_index()#.loc['5903571158369']\n",
    "arr_ean_to_drop=arr_ean_to_drop.loc[arr_ean_to_drop[0]==True]"
   ]
  },
  {
   "cell_type": "code",
   "execution_count": 286,
   "id": "19abd5fa-30c4-4340-a367-5acce0efcab7",
   "metadata": {},
   "outputs": [],
   "source": [
    "df_plik_agata=df_plik_agata.loc[~df_plik_agata['KOD_PASEK'].isin(arr_ean_to_drop['KOD_PASEK'].unique())]"
   ]
  },
  {
   "cell_type": "code",
   "execution_count": 287,
   "id": "9eaf1a0c-2441-4a38-aa74-9b0a990a24dc",
   "metadata": {},
   "outputs": [],
   "source": [
    "df_nazwy_sklepow=pd.read_excel('klienci.xlsx')\n",
    "df_nazwy_sklepow=df_nazwy_sklepow[['Sprzedający','NAZWA']]\n",
    "df_nazwy_sklepow=df_nazwy_sklepow.loc[df_nazwy_sklepow['NAZWA'].notnull()]"
   ]
  },
  {
   "cell_type": "code",
   "execution_count": 288,
   "id": "e5871628-47c4-4d81-84ad-60b04b357608",
   "metadata": {
    "tags": []
   },
   "outputs": [],
   "source": [
    "arr_new_col=[]\n",
    "for i in df_plik_agata.columns:\n",
    "    if df_nazwy_sklepow.loc[df_nazwy_sklepow['Sprzedający']==i].empty:\n",
    "        arr_new_col=np.append(arr_new_col, i)\n",
    "    else:\n",
    "        #arr_new_col=np.append(arr_new_col, i+' ('+str(df_nazwy_sklepow.loc[df_nazwy_sklepow['Sprzedający']==i]['NAZWA'].values[0])+')')\n",
    "        "
   ]
  },
  {
   "cell_type": "code",
   "execution_count": 280,
   "id": "bef3154a-12fc-4f62-9762-aad4b527e471",
   "metadata": {},
   "outputs": [],
   "source": [
    "# df_plik_agata.columns=arr_new_col"
   ]
  },
  {
   "cell_type": "code",
   "execution_count": 290,
   "id": "7e7e017a-af7a-4873-bc5e-57030e5d740d",
   "metadata": {},
   "outputs": [
    {
     "data": {
      "text/plain": [
       "array(['KOD_TEMA', 'NAZWA', 'RODZAJ', 'SMA-Eurofirany',\n",
       "       'ilość\\nsprzedana', 'eol_pl (E FOREVER)', 'r.cen\\neol',\n",
       "       'tekstore (7 TEKSTORE)', 'Unnamed: 8', 'SilverHomePl (8 EMPE)',\n",
       "       'r.cen\\n', 'domowyogrod (E EUROSERW)', 'r.cen\\n.1',\n",
       "       'marpuch_PL (E MAR-PUCH)', 'r.cen\\n.2', 'sunset_home (E MERCATO)',\n",
       "       'decority (PIOTR SŁOWIK)', 'JarDyn2012 (E ORTEX)',\n",
       "       'marpuch_pl_2 (E MAR-PUCH)', 'SklepKZ (7 ZAKRZEW1)',\n",
       "       'firany-fry (6 DUNAJEC2)', 'DecorMed (DecorMed)',\n",
       "       'EuroPremiumHome (Decor Home Design)', 'SklepKZ-2 (7 ZAKRZEW1)',\n",
       "       'Tekstyliahome (7 PECE)', 'luogo (E GREAT)',\n",
       "       'i-posciel (8@POŚCIELE)', 'tomex8 (8 TOM-EX 1)',\n",
       "       'LukHome (E PRO-MIX)', 'jawdomku-eu (7 KARO )',\n",
       "       'Zaslony_Deco (PIOTR SŁOWIK)', 'markowetextylia (8 TOM-EX 1)',\n",
       "       'gust24 (7T GUST)', 'mariall_pl (4 MARIALL)',\n",
       "       'PaulaHome (8 PAULA)', 'strefaspania (1 DUDZIAK)',\n",
       "       'MYKALIAD (E EDENT)', 'DecorHomeDesign (7T JARSPOL)',\n",
       "       'marjar25 (7 MARJAR)', 'sennyszept-pl (7 MARJAR)',\n",
       "       'jawdomku-pl (7 KARO )', 'home-brand (8 TOM-EX 1)',\n",
       "       'MYKALIAD12 (E EDENT)', 'super_rabaty (1 DUDZIAK)',\n",
       "       'mykallove (E EDENT)', 'besty_cenowe (1 DUDZIAK)',\n",
       "       'MYKALIAD15 (E EDENT)', 'gatzdesign (E FLORIS)',\n",
       "       'mykaliad16 (E EDENT)', 'Tantan_pl (9 PROBITY)',\n",
       "       'ale_super_rabaty (ATA DUDZIAK)', 'PromixPP (E PRO-MIX)',\n",
       "       'lozkoholicy (8 ORZYŁO 4)', 'strefaagd (7 ŻABIA W)',\n",
       "       'imegin (4 LT BRODN)', 'Miluni--pl (8 SEJFOWNI)',\n",
       "       'bojakniemytokto (7 ŻABIA W)', 'Miluni-pl (8 SEJFOWNI)',\n",
       "       'tombie22 (F.H.U.\"EWA\" EWA BIELECKA)',\n",
       "       'eurotekstylia_pl (8 TOM-EX 1)', 'ikomfort_pl (8 ORZYŁO 4)',\n",
       "       'modnenarzuty_pl (8 ORZYŁO 4)', 'sleepsize (8 ORZYŁO 4)',\n",
       "       'wyspijsie (8 ORZYŁO 4)', 'egzakli_pl (8 ORZYŁO 4)',\n",
       "       'hurtowniabestway (7 ŻABIA W)', 'petronelka_pl (8 ORZYŁO 4)',\n",
       "       'LS_2 (1 LS)', 'hurtowniakocy (7 ŻABIA W)',\n",
       "       'www_miluni_pl (8 SEJFOWNI)', 'euroDesign91 (7 ŻABIA W)',\n",
       "       'debowyzaulek_pl (9 PROBITY)', 'KOD_PASEK'], dtype='<U35')"
      ]
     },
     "execution_count": 290,
     "metadata": {},
     "output_type": "execute_result"
    }
   ],
   "source": [
    "arr_new_col"
   ]
  },
  {
   "cell_type": "code",
   "execution_count": 291,
   "id": "d223b660-42e5-4848-b91c-4eb3fd17d276",
   "metadata": {},
   "outputs": [],
   "source": [
    "df_plik_agata.to_excel('ZASGOTOWECENY_2.xlsx')"
   ]
  },
  {
   "cell_type": "code",
   "execution_count": null,
   "id": "899131e8-5abe-47f4-8440-b969c9cbc790",
   "metadata": {},
   "outputs": [],
   "source": []
  }
 ],
 "metadata": {
  "kernelspec": {
   "display_name": "Python 3 (ipykernel)",
   "language": "python",
   "name": "python3"
  },
  "language_info": {
   "codemirror_mode": {
    "name": "ipython",
    "version": 3
   },
   "file_extension": ".py",
   "mimetype": "text/x-python",
   "name": "python",
   "nbconvert_exporter": "python",
   "pygments_lexer": "ipython3",
   "version": "3.9.13"
  }
 },
 "nbformat": 4,
 "nbformat_minor": 5
}
